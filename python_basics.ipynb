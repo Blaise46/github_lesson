{
  "nbformat": 4,
  "nbformat_minor": 0,
  "metadata": {
    "colab": {
      "provenance": [],
      "include_colab_link": true
    },
    "kernelspec": {
      "name": "python3",
      "display_name": "Python 3"
    },
    "language_info": {
      "name": "python"
    }
  },
  "cells": [
    {
      "cell_type": "markdown",
      "metadata": {
        "id": "view-in-github",
        "colab_type": "text"
      },
      "source": [
        "<a href=\"https://colab.research.google.com/github/Blaise46/github_lesson/blob/main/python_basics.ipynb\" target=\"_parent\"><img src=\"https://colab.research.google.com/assets/colab-badge.svg\" alt=\"Open In Colab\"/></a>"
      ]
    },
    {
      "cell_type": "markdown",
      "source": [
        "## Creating a list"
      ],
      "metadata": {
        "id": "5w-uO_oGLpBw"
      }
    },
    {
      "cell_type": "code",
      "source": [
        "mylist=[1,2,3,4,5]"
      ],
      "metadata": {
        "id": "VOQrYh7qLv19"
      },
      "execution_count": 3,
      "outputs": []
    },
    {
      "cell_type": "code",
      "source": [
        "mylist_1=[]\n",
        "#add some values to the list"
      ],
      "metadata": {
        "id": "LxcpioyJNaVR"
      },
      "execution_count": 4,
      "outputs": []
    },
    {
      "cell_type": "code",
      "source": [
        "print(mylist_1)"
      ],
      "metadata": {
        "id": "o3xHnJQWL-8T",
        "colab": {
          "base_uri": "https://localhost:8080/"
        },
        "outputId": "ad3974bc-0cf2-4c3a-ae68-d0ad9ca99dd1"
      },
      "execution_count": 6,
      "outputs": [
        {
          "output_type": "stream",
          "name": "stdout",
          "text": [
            "[]\n"
          ]
        }
      ]
    },
    {
      "cell_type": "markdown",
      "source": [
        "## Indexing and slicing a list"
      ],
      "metadata": {
        "id": "QIJL26opM2s7"
      }
    },
    {
      "cell_type": "code",
      "source": [
        "c=[1,3,5,2,4,0,10,15,20,22,4,7,8]"
      ],
      "metadata": {
        "id": "t69KzaEvKRrl"
      },
      "execution_count": 7,
      "outputs": []
    },
    {
      "cell_type": "code",
      "source": [
        "#first element in the list:\n",
        "c[0]"
      ],
      "metadata": {
        "id": "SCVuzd0tLEpf",
        "colab": {
          "base_uri": "https://localhost:8080/"
        },
        "outputId": "45948982-6b02-4bd9-8632-d770b4c1f54c"
      },
      "execution_count": 9,
      "outputs": [
        {
          "output_type": "execute_result",
          "data": {
            "text/plain": [
              "1"
            ]
          },
          "metadata": {},
          "execution_count": 9
        }
      ]
    },
    {
      "cell_type": "code",
      "source": [
        "#change the fourth element to 3\n",
        "c[3] = 3"
      ],
      "metadata": {
        "id": "ADpb50W7LGHW"
      },
      "execution_count": 10,
      "outputs": []
    },
    {
      "cell_type": "code",
      "source": [
        "#print only the first 3 elements of the list\n",
        "for i in range(0, 3):\n",
        "  print(c[i], end=\" \")"
      ],
      "metadata": {
        "id": "KqK_EvjpNwLF",
        "colab": {
          "base_uri": "https://localhost:8080/"
        },
        "outputId": "8c945f12-1862-42bd-d918-cba2800e17e9"
      },
      "execution_count": 16,
      "outputs": [
        {
          "output_type": "stream",
          "name": "stdout",
          "text": [
            "1 3 5 "
          ]
        }
      ]
    },
    {
      "cell_type": "markdown",
      "source": [
        "Stepping"
      ],
      "metadata": {
        "id": "8A8y578CYsD7"
      }
    },
    {
      "cell_type": "code",
      "source": [
        "c"
      ],
      "metadata": {
        "id": "37I26afXZEsR",
        "colab": {
          "base_uri": "https://localhost:8080/"
        },
        "outputId": "21a11ea4-a7ea-4e32-f5b8-d4f7027bdc7d"
      },
      "execution_count": 17,
      "outputs": [
        {
          "output_type": "execute_result",
          "data": {
            "text/plain": [
              "[1, 3, 5, 3, 4, 0, 10, 15, 20, 22, 4, 7, 8]"
            ]
          },
          "metadata": {},
          "execution_count": 17
        }
      ]
    },
    {
      "cell_type": "markdown",
      "source": [
        "Get every second element from the list!"
      ],
      "metadata": {
        "id": "fBJLFzkSwnnn"
      }
    },
    {
      "cell_type": "code",
      "source": [
        "c[::2]"
      ],
      "metadata": {
        "id": "m8Ag6dIGYtNm",
        "colab": {
          "base_uri": "https://localhost:8080/"
        },
        "outputId": "a217f19d-b433-4cdd-9a23-be4abe58e37c"
      },
      "execution_count": 20,
      "outputs": [
        {
          "output_type": "execute_result",
          "data": {
            "text/plain": [
              "[1, 5, 4, 10, 20, 4, 8]"
            ]
          },
          "metadata": {},
          "execution_count": 20
        }
      ]
    },
    {
      "cell_type": "markdown",
      "source": [
        "Get the elements from the 1st index until the 4th index!"
      ],
      "metadata": {
        "id": "dKRmC77bwusy"
      }
    },
    {
      "cell_type": "code",
      "source": [
        "print(c[1:4])"
      ],
      "metadata": {
        "id": "lpyXqW7Zqtws",
        "colab": {
          "base_uri": "https://localhost:8080/"
        },
        "outputId": "9c1aa88b-54f3-4bd1-b74b-af0447fec9ba"
      },
      "execution_count": 21,
      "outputs": [
        {
          "output_type": "stream",
          "name": "stdout",
          "text": [
            "[3, 5, 3]\n"
          ]
        }
      ]
    },
    {
      "cell_type": "markdown",
      "source": [
        "\n",
        "Get the elements from the 1st index until the 10th index, but only every second element!"
      ],
      "metadata": {
        "id": "KTNm8q8WbClh"
      }
    },
    {
      "cell_type": "code",
      "source": [
        "print(c[1:10:2])"
      ],
      "metadata": {
        "id": "JxEqH5B3D7CW",
        "colab": {
          "base_uri": "https://localhost:8080/"
        },
        "outputId": "e1d02041-cf55-455c-dc6b-11d1a498c447"
      },
      "execution_count": 22,
      "outputs": [
        {
          "output_type": "stream",
          "name": "stdout",
          "text": [
            "[3, 3, 0, 15, 22]\n"
          ]
        }
      ]
    },
    {
      "cell_type": "markdown",
      "source": [
        "Reverse the list!"
      ],
      "metadata": {
        "id": "K_SVyX73WNWP"
      }
    },
    {
      "cell_type": "code",
      "source": [
        "c.reverse()"
      ],
      "metadata": {
        "id": "nJ1NGdgRWRyS"
      },
      "execution_count": 25,
      "outputs": []
    },
    {
      "cell_type": "code",
      "source": [
        "print(c)"
      ],
      "metadata": {
        "id": "eTc4WS3zEPgg",
        "colab": {
          "base_uri": "https://localhost:8080/"
        },
        "outputId": "cd1fb07e-a8db-465b-f440-4845cc265bb2"
      },
      "execution_count": 26,
      "outputs": [
        {
          "output_type": "stream",
          "name": "stdout",
          "text": [
            "[8, 7, 4, 22, 20, 15, 10, 0, 4, 3, 5, 3, 1]\n"
          ]
        }
      ]
    },
    {
      "cell_type": "markdown",
      "source": [
        "Get the 3rd element from behind!"
      ],
      "metadata": {
        "id": "4G2vQtuZWWTk"
      }
    },
    {
      "cell_type": "code",
      "source": [
        "c[-3]"
      ],
      "metadata": {
        "id": "FZN195cAWX3c",
        "colab": {
          "base_uri": "https://localhost:8080/"
        },
        "outputId": "45e60e0d-9859-4164-917d-d96fd410a5a2"
      },
      "execution_count": 27,
      "outputs": [
        {
          "output_type": "execute_result",
          "data": {
            "text/plain": [
              "5"
            ]
          },
          "metadata": {},
          "execution_count": 27
        }
      ]
    },
    {
      "cell_type": "markdown",
      "source": [
        "## Length of a list"
      ],
      "metadata": {
        "id": "lXSK8OK9Nw8Q"
      }
    },
    {
      "cell_type": "markdown",
      "source": [
        "How do you check the length of the list?"
      ],
      "metadata": {
        "id": "uXi7WpmSWYvd"
      }
    },
    {
      "cell_type": "code",
      "source": [
        "len(c)"
      ],
      "metadata": {
        "id": "EjEWMVLtLWYF",
        "colab": {
          "base_uri": "https://localhost:8080/"
        },
        "outputId": "9d9dae58-68fa-4c28-da3a-33d0ddb6527b"
      },
      "execution_count": 28,
      "outputs": [
        {
          "output_type": "execute_result",
          "data": {
            "text/plain": [
              "13"
            ]
          },
          "metadata": {},
          "execution_count": 28
        }
      ]
    },
    {
      "cell_type": "markdown",
      "source": [
        "## Iterating through a list"
      ],
      "metadata": {
        "id": "3ZftvrQbNzGD"
      }
    },
    {
      "cell_type": "markdown",
      "source": [
        "Print all elements of c with a for loop!"
      ],
      "metadata": {
        "id": "Bkg_NtTjWeVV"
      }
    },
    {
      "cell_type": "code",
      "source": [
        "for i in c:\n",
        "  print(i, end=\" \")"
      ],
      "metadata": {
        "id": "pnvFb9uYN0uX",
        "colab": {
          "base_uri": "https://localhost:8080/"
        },
        "outputId": "bbeabf17-3203-495b-b0da-e594837956a1"
      },
      "execution_count": 29,
      "outputs": [
        {
          "output_type": "stream",
          "name": "stdout",
          "text": [
            "8 7 4 22 20 15 10 0 4 3 5 3 1 "
          ]
        }
      ]
    },
    {
      "cell_type": "markdown",
      "source": [
        "### Write an algorithm to decide whether a list (let's see list \"c\") is monotonically increasing!"
      ],
      "metadata": {
        "id": "1B2UcjDKOK06"
      }
    },
    {
      "cell_type": "code",
      "source": [
        "for i in range(1, len(c)-1):\n",
        "  if c[i+1] > c[i]:\n",
        "    print(True)\n",
        "  else:\n",
        "    print(False)"
      ],
      "metadata": {
        "id": "ixEE6RCpJ9PQ",
        "colab": {
          "base_uri": "https://localhost:8080/"
        },
        "outputId": "45844aeb-45a3-414b-a287-a46f25be05dc"
      },
      "execution_count": 33,
      "outputs": [
        {
          "output_type": "stream",
          "name": "stdout",
          "text": [
            "False\n",
            "True\n",
            "False\n",
            "False\n",
            "False\n",
            "False\n",
            "True\n",
            "False\n",
            "True\n",
            "False\n",
            "False\n"
          ]
        }
      ]
    },
    {
      "cell_type": "markdown",
      "source": [
        "## Lists containing strings"
      ],
      "metadata": {
        "id": "t-9lCKFMmRT9"
      }
    },
    {
      "cell_type": "code",
      "source": [
        "fruits=['apple', 'banana', 'coconut', 'strawberry', 'apricot', 'pear']\n"
      ],
      "metadata": {
        "id": "cshhPUV-N52u"
      },
      "execution_count": 34,
      "outputs": []
    },
    {
      "cell_type": "markdown",
      "source": [
        "Print all elements!"
      ],
      "metadata": {
        "id": "HXYXypnOWlE8"
      }
    },
    {
      "cell_type": "code",
      "source": [
        "for i in fruits:\n",
        "  print(i, end=\" \")"
      ],
      "metadata": {
        "colab": {
          "base_uri": "https://localhost:8080/"
        },
        "id": "v7gLRwz0krJA",
        "outputId": "fdc93b6b-930a-4a74-b604-d0e3d9b625ce"
      },
      "execution_count": 36,
      "outputs": [
        {
          "output_type": "stream",
          "name": "stdout",
          "text": [
            "apple banana coconut strawberry apricot pear "
          ]
        }
      ]
    },
    {
      "cell_type": "markdown",
      "source": [
        "## If-else statements"
      ],
      "metadata": {
        "id": "4hAbQ8xVdEYp"
      }
    },
    {
      "cell_type": "markdown",
      "source": [
        "Print the names of the fruits that have an 'e' in their names!"
      ],
      "metadata": {
        "id": "Giye9cWxxEwN"
      }
    },
    {
      "cell_type": "code",
      "source": [
        "for i in fruits:\n",
        "  if i.find('e') != -1:\n",
        "    print(i, end=\" \")"
      ],
      "metadata": {
        "id": "6ITGJeYxKDeq",
        "colab": {
          "base_uri": "https://localhost:8080/"
        },
        "outputId": "faf5684f-3211-4d99-ae51-9e3a77d762d6"
      },
      "execution_count": 37,
      "outputs": [
        {
          "output_type": "stream",
          "name": "stdout",
          "text": [
            "apple strawberry pear "
          ]
        }
      ]
    },
    {
      "cell_type": "markdown",
      "source": [
        "Remove the elements from the list \"c\" that are even numbers!"
      ],
      "metadata": {
        "id": "26Jsb2CtxJfU"
      }
    },
    {
      "cell_type": "code",
      "source": [
        "odd_numbers = []\n",
        "\n",
        "for number in c:\n",
        "    if number%2 != 0:\n",
        "        odd_numbers.append(number)\n",
        "\n",
        "c = odd_numbers\n",
        "print(c)  # Output: [1, 3, 5]"
      ],
      "metadata": {
        "id": "m2X9VNMCGwhw",
        "colab": {
          "base_uri": "https://localhost:8080/"
        },
        "outputId": "411d91f7-2fc9-4482-d4c1-eaa711e26233"
      },
      "execution_count": 43,
      "outputs": [
        {
          "output_type": "stream",
          "name": "stdout",
          "text": [
            "[7, 15, 3, 5, 3, 1]\n"
          ]
        }
      ]
    },
    {
      "cell_type": "code",
      "source": [
        "#check the list whether it was succesful"
      ],
      "metadata": {
        "id": "XcfVSNdfQt4M"
      },
      "execution_count": 38,
      "outputs": []
    },
    {
      "cell_type": "markdown",
      "source": [
        "## Other built-in list-operations"
      ],
      "metadata": {
        "id": "9o0HYzZ-dVgy"
      }
    },
    {
      "cell_type": "code",
      "source": [
        "#create a random list b\n",
        "import random\n",
        "b=[]\n",
        "for i in range(10):\n",
        "  b.append(random.randint(0,10))\n",
        "c.extend(b) #extends c with another list"
      ],
      "metadata": {
        "id": "cB_OdcuwdN0H"
      },
      "execution_count": 44,
      "outputs": []
    },
    {
      "cell_type": "code",
      "source": [
        "c #check whether the extension was succesful\n",
        "print(c)"
      ],
      "metadata": {
        "id": "v7hB4X_ke1j6",
        "colab": {
          "base_uri": "https://localhost:8080/"
        },
        "outputId": "b54cb63f-672f-47e7-b8ca-dccf6479e495"
      },
      "execution_count": 45,
      "outputs": [
        {
          "output_type": "stream",
          "name": "stdout",
          "text": [
            "[7, 15, 3, 5, 3, 1, 9, 5, 1, 3, 3, 2, 10, 5, 3, 3]\n"
          ]
        }
      ]
    },
    {
      "cell_type": "code",
      "source": [
        "#how many 4s are in the list? ( list.count() )\n",
        "\n",
        "count = 0\n",
        "for i in c:\n",
        "  if i == 4:\n",
        "    count += 1\n",
        "print(count)"
      ],
      "metadata": {
        "id": "AYOUHhUsdSK9",
        "colab": {
          "base_uri": "https://localhost:8080/"
        },
        "outputId": "9caea112-f3a2-4c32-9e27-4e3920cd1c22"
      },
      "execution_count": 46,
      "outputs": [
        {
          "output_type": "stream",
          "name": "stdout",
          "text": [
            "0\n"
          ]
        }
      ]
    },
    {
      "cell_type": "code",
      "source": [
        "#the FIRST appearance of the value 0   (   list.index()  )\n",
        "for i in c:\n",
        "  if i == 3:\n",
        "    print(c.index(i))\n",
        "    break"
      ],
      "metadata": {
        "id": "aQDKP8LZetGq",
        "colab": {
          "base_uri": "https://localhost:8080/"
        },
        "outputId": "aaf0f23e-97c1-4bca-a39b-b8bd2dad8fd4"
      },
      "execution_count": 52,
      "outputs": [
        {
          "output_type": "stream",
          "name": "stdout",
          "text": [
            "2\n"
          ]
        }
      ]
    },
    {
      "cell_type": "code",
      "source": [
        "#insert number 3 to the 4th index in the list  ( list.insert(WHERE, WHAT) )\n",
        "c.insert(4, 3)\n",
        "#check the list\n",
        "print(c)"
      ],
      "metadata": {
        "id": "Ny2Zr5cSe70N",
        "colab": {
          "base_uri": "https://localhost:8080/"
        },
        "outputId": "26c7c3c4-56f6-4f67-e86f-4e0331724218"
      },
      "execution_count": 54,
      "outputs": [
        {
          "output_type": "stream",
          "name": "stdout",
          "text": [
            "[7, 15, 3, 5, 3, 3, 3, 1, 9, 5, 1, 3, 3, 2, 10, 5, 3, 3]\n"
          ]
        }
      ]
    },
    {
      "cell_type": "code",
      "source": [
        "#remove the element on the LAST index\n",
        "c.pop(-1)\n",
        "print(c)"
      ],
      "metadata": {
        "id": "djyeRtOdfvw3",
        "colab": {
          "base_uri": "https://localhost:8080/"
        },
        "outputId": "4a667d58-73ec-4ecf-db10-18536e6653e6"
      },
      "execution_count": 56,
      "outputs": [
        {
          "output_type": "stream",
          "name": "stdout",
          "text": [
            "[7, 15, 3, 5, 3, 3, 3, 1, 9, 5, 1, 3, 3, 2, 10, 5]\n"
          ]
        }
      ]
    },
    {
      "cell_type": "code",
      "source": [
        "#remove the element on the 3rd index\n",
        "c.pop(2)\n",
        "print(c)"
      ],
      "metadata": {
        "id": "JvBdzUA3f6R_",
        "colab": {
          "base_uri": "https://localhost:8080/"
        },
        "outputId": "244d533d-3809-4c74-f023-94b31d4d5d55"
      },
      "execution_count": 58,
      "outputs": [
        {
          "output_type": "stream",
          "name": "stdout",
          "text": [
            "[7, 15, 3, 3, 3, 1, 9, 5, 1, 3, 3, 2, 10, 5]\n"
          ]
        }
      ]
    },
    {
      "cell_type": "markdown",
      "source": [
        "# List comprehension:\n",
        "## A shorter syntax when you want to create a new list based on the values of an existing list"
      ],
      "metadata": {
        "id": "NndRVEWlbo_z"
      }
    },
    {
      "cell_type": "code",
      "source": [
        "#if I wanted to get the half of each element in a list, I could do for example:\n",
        "newlist=[] #store the new values in a new list\n",
        "for i in range (len(c)):\n",
        "  newlist.append(c[i]/2)\n",
        "\n",
        "print(newlist)"
      ],
      "metadata": {
        "id": "hprAKdg4dFVO"
      },
      "execution_count": null,
      "outputs": []
    },
    {
      "cell_type": "code",
      "source": [
        "#or\n",
        "newlist1=[]\n",
        "for number in c:\n",
        "  newlist1.append(number/2)\n",
        "\n",
        "print(newlist1)"
      ],
      "metadata": {
        "id": "Yo8cvs1GdZr6"
      },
      "execution_count": null,
      "outputs": []
    },
    {
      "cell_type": "markdown",
      "source": [
        "With list comprehension:\n",
        "\n",
        "\n",
        "[(***what to return***)   **for** *element*   **in**   *name of the list* ]\n",
        "\n",
        "\n",
        "[(what do i do with the *element*) **for** *element* **in** *name of the list*]"
      ],
      "metadata": {
        "id": "NFIjnwNXgtvV"
      }
    },
    {
      "cell_type": "code",
      "source": [
        "[element/2 for element in c] #take the half of every element\n",
        "\n",
        "#only prints the new list, if I want to create a new list: mylist=[element/2 for element in c]"
      ],
      "metadata": {
        "id": "1l50AknQbnUe"
      },
      "execution_count": null,
      "outputs": []
    },
    {
      "cell_type": "code",
      "source": [
        "new=[element/2 for element in c]"
      ],
      "metadata": {
        "id": "RWLhao_dIcrj"
      },
      "execution_count": null,
      "outputs": []
    },
    {
      "cell_type": "code",
      "source": [
        "[number*2 for number in c] #I can call it anything just like in the for loops"
      ],
      "metadata": {
        "id": "_j05hHZChd07"
      },
      "execution_count": null,
      "outputs": []
    },
    {
      "cell_type": "code",
      "source": [
        "#create a list from letters:\n",
        "mylist_2= [letter for letter in 'thisisasentence']\n",
        "mylist_2"
      ],
      "metadata": {
        "colab": {
          "base_uri": "https://localhost:8080/"
        },
        "id": "9yhUTrM1ftDF",
        "outputId": "ff140184-a1b4-425b-8df7-bf9c0813073c"
      },
      "execution_count": null,
      "outputs": [
        {
          "output_type": "execute_result",
          "data": {
            "text/plain": [
              "['t', 'h', 'i', 's', 'i', 's', 'a', 's', 'e', 'n', 't', 'e', 'n', 'c', 'e']"
            ]
          },
          "metadata": {},
          "execution_count": 49
        }
      ]
    },
    {
      "cell_type": "markdown",
      "source": [
        "We can even add \"if\" statements"
      ],
      "metadata": {
        "id": "knSEQf5Bdz8G"
      }
    },
    {
      "cell_type": "code",
      "source": [
        "[element for element in c if element%2==0] #get the elements in the list \"c\", if the element is an even number"
      ],
      "metadata": {
        "id": "EXqr0KhGdzmZ"
      },
      "execution_count": null,
      "outputs": []
    },
    {
      "cell_type": "code",
      "source": [
        "[fruit for fruit in fruits if 'o' in fruit] #get the elements in the list \"fruits\" if the element contains the letter 'o'"
      ],
      "metadata": {
        "id": "Bo1PPnateDI0"
      },
      "execution_count": null,
      "outputs": []
    },
    {
      "cell_type": "markdown",
      "source": [
        "Create a list based on list \"c\", keep the numbers that are divisible by 3!"
      ],
      "metadata": {
        "id": "P4RqHvFsxkqX"
      }
    },
    {
      "cell_type": "code",
      "source": [
        "div = [number for number in c if number%3 == 0]\n",
        "print(div)"
      ],
      "metadata": {
        "id": "adrmUIKgxueo",
        "colab": {
          "base_uri": "https://localhost:8080/"
        },
        "outputId": "d9394b50-b745-48e8-b7dd-7f55445ef6ba"
      },
      "execution_count": 60,
      "outputs": [
        {
          "output_type": "stream",
          "name": "stdout",
          "text": [
            "[15, 3, 3, 3, 9, 3, 3]\n"
          ]
        }
      ]
    },
    {
      "cell_type": "markdown",
      "source": [
        "Create a list based on the list \"c\", take the second power of every number"
      ],
      "metadata": {
        "id": "MV4tvhJwxtKn"
      }
    },
    {
      "cell_type": "code",
      "source": [
        "pow = [number*number for number in c]\n",
        "print(pow)"
      ],
      "metadata": {
        "id": "Fls5FPK6JCpW",
        "colab": {
          "base_uri": "https://localhost:8080/"
        },
        "outputId": "6bc9fa40-8754-40c4-b798-1643bfdc5bc2"
      },
      "execution_count": 62,
      "outputs": [
        {
          "output_type": "stream",
          "name": "stdout",
          "text": [
            "[49, 225, 9, 9, 9, 1, 81, 25, 1, 9, 9, 4, 100, 25]\n"
          ]
        }
      ]
    },
    {
      "cell_type": "markdown",
      "source": [
        "## *range(x:y)* is an iterable object (that we use in for loops as well)\n",
        "## iterable object: it can be iterated over, with the help of e.g. a for loop"
      ],
      "metadata": {
        "id": "I2mBaoJ8fBNQ"
      }
    },
    {
      "cell_type": "code",
      "source": [
        "range(0,10)"
      ],
      "metadata": {
        "colab": {
          "base_uri": "https://localhost:8080/"
        },
        "id": "UPVrj3Qnf8HP",
        "outputId": "28649804-62f3-421a-8394-1948328b24f0"
      },
      "execution_count": null,
      "outputs": [
        {
          "output_type": "execute_result",
          "data": {
            "text/plain": [
              "range(0, 10)"
            ]
          },
          "metadata": {},
          "execution_count": 54
        }
      ]
    },
    {
      "cell_type": "code",
      "source": [
        "type(range(0,10))"
      ],
      "metadata": {
        "colab": {
          "base_uri": "https://localhost:8080/"
        },
        "id": "OXDP7Y9Ff9ra",
        "outputId": "b8ee125e-983b-4afa-a133-2f418741071b"
      },
      "execution_count": null,
      "outputs": [
        {
          "output_type": "execute_result",
          "data": {
            "text/plain": [
              "range"
            ]
          },
          "metadata": {},
          "execution_count": 55
        }
      ]
    },
    {
      "cell_type": "code",
      "source": [
        "range(0,10)[5]"
      ],
      "metadata": {
        "colab": {
          "base_uri": "https://localhost:8080/"
        },
        "id": "cc_WrJMZgBnC",
        "outputId": "be285d90-500f-42ca-b365-f32872542ac6"
      },
      "execution_count": null,
      "outputs": [
        {
          "output_type": "execute_result",
          "data": {
            "text/plain": [
              "5"
            ]
          },
          "metadata": {},
          "execution_count": 56
        }
      ]
    },
    {
      "cell_type": "code",
      "source": [
        "for element in (range(0,10)): # iterate over the range(0,10)\n",
        "  print(element)"
      ],
      "metadata": {
        "colab": {
          "base_uri": "https://localhost:8080/"
        },
        "id": "fnI8HIrMfLRS",
        "outputId": "05cf09ed-59dc-44c9-8422-9c12bd7a5233"
      },
      "execution_count": null,
      "outputs": [
        {
          "output_type": "stream",
          "name": "stdout",
          "text": [
            "0\n",
            "1\n",
            "2\n",
            "3\n",
            "4\n",
            "5\n",
            "6\n",
            "7\n",
            "8\n",
            "9\n"
          ]
        }
      ]
    },
    {
      "cell_type": "markdown",
      "source": [
        "Get a list of the numbers from 0 to 10"
      ],
      "metadata": {
        "id": "3OtHChIteYGi"
      }
    },
    {
      "cell_type": "code",
      "source": [
        "[x for x in range(0,10)]"
      ],
      "metadata": {
        "colab": {
          "base_uri": "https://localhost:8080/"
        },
        "id": "HYOLkZTbeXKH",
        "outputId": "8bacabc3-3ab9-435c-c3d0-d89dc8bd7952"
      },
      "execution_count": null,
      "outputs": [
        {
          "output_type": "execute_result",
          "data": {
            "text/plain": [
              "[0, 1, 2, 3, 4, 5, 6, 7, 8, 9]"
            ]
          },
          "metadata": {},
          "execution_count": 58
        }
      ]
    },
    {
      "cell_type": "markdown",
      "source": [
        "zip(): iterate through multiple lists paralelly!\n"
      ],
      "metadata": {
        "id": "tkMI_CF7yaXh"
      }
    },
    {
      "cell_type": "code",
      "source": [
        "letters=[letter for letter in 'abcdefgh']\n",
        "numbers=[0,1,2,3,4,5,6,7]\n",
        "for letter,number in zip(letters,numbers):\n",
        "  print(letter, number)"
      ],
      "metadata": {
        "colab": {
          "base_uri": "https://localhost:8080/"
        },
        "id": "86hpYEAayMG_",
        "outputId": "bd1327cf-8747-47d1-def5-840fe945eb4b"
      },
      "execution_count": null,
      "outputs": [
        {
          "output_type": "stream",
          "name": "stdout",
          "text": [
            "a 0\n",
            "b 1\n",
            "c 2\n",
            "d 3\n",
            "e 4\n",
            "f 5\n",
            "g 6\n",
            "h 7\n"
          ]
        }
      ]
    },
    {
      "cell_type": "markdown",
      "source": [
        "Create a list of the letters of this string: 'this is not a long sentence'\n",
        "\n",
        "\n",
        "Create another list containing numbers from 1 to the length of the sentence\n",
        "\n",
        "\n",
        "Iterate through the two lists at the same time and print each letter and which place it is on in the sentence.\n",
        "\n",
        "\n",
        "E.g.: 1 t, 2 h, 3 i ..."
      ],
      "metadata": {
        "id": "XoszKZKFVwqN"
      }
    },
    {
      "cell_type": "code",
      "source": [
        "text = [letter for letter in 'thisisasentence']\n",
        "l = len(text)\n",
        "numbers = [number for number in range(0, l)]\n",
        "for letter,number in zip(text,numbers):\n",
        "  print(letter, number)\n"
      ],
      "metadata": {
        "colab": {
          "base_uri": "https://localhost:8080/"
        },
        "id": "yVQE-liWqBjC",
        "outputId": "3be8522a-4660-41c8-f1f0-60b664a63a18"
      },
      "execution_count": 67,
      "outputs": [
        {
          "output_type": "stream",
          "name": "stdout",
          "text": [
            "t 0\n",
            "h 1\n",
            "i 2\n",
            "s 3\n",
            "i 4\n",
            "s 5\n",
            "a 6\n",
            "s 7\n",
            "e 8\n",
            "n 9\n",
            "t 10\n",
            "e 11\n",
            "n 12\n",
            "c 13\n",
            "e 14\n"
          ]
        }
      ]
    },
    {
      "cell_type": "markdown",
      "source": [],
      "metadata": {
        "id": "RPHVwcOmV-HF"
      }
    },
    {
      "cell_type": "markdown",
      "source": [
        "##Write the content of a chosen list (that you created previously in this lesson) in a txt file!"
      ],
      "metadata": {
        "id": "KWEEUiGzSvaY"
      }
    },
    {
      "cell_type": "code",
      "source": [
        "#Recommended way to do it:"
      ],
      "metadata": {
        "id": "140ZHIM_S-c6"
      },
      "execution_count": null,
      "outputs": []
    },
    {
      "cell_type": "code",
      "source": [
        "!touch abc.txt"
      ],
      "metadata": {
        "id": "Y5A2LneiTNUh"
      },
      "execution_count": null,
      "outputs": []
    },
    {
      "cell_type": "code",
      "source": [
        "#  if you open a file, pay attention to close it as well!\n",
        "# with this syntax \"with open....\" it closes the file automatically"
      ],
      "metadata": {
        "id": "bne5AV4aUDbo"
      },
      "execution_count": null,
      "outputs": []
    },
    {
      "cell_type": "code",
      "source": [
        "with open ('abc.txt', 'w') as f: # 'w' : write\n",
        "  f.write('hi!')"
      ],
      "metadata": {
        "id": "B4aoSaSYTZbo"
      },
      "execution_count": null,
      "outputs": []
    },
    {
      "cell_type": "code",
      "source": [
        "with open ('abc.txt', 'w') as f:\n",
        "  f.write('hello!') #pay attention! in this case it overwrites the content of the file"
      ],
      "metadata": {
        "id": "xEi2LMqrTj0C"
      },
      "execution_count": null,
      "outputs": []
    },
    {
      "cell_type": "code",
      "source": [
        "#instead:\n",
        "with open('abc.txt', 'a') as f: #   'a' = append\n",
        "  f.write('hey!')"
      ],
      "metadata": {
        "id": "RyKP5tjGT8Zt"
      },
      "execution_count": null,
      "outputs": []
    },
    {
      "cell_type": "code",
      "source": [
        "with open('abc.txt', 'a') as f:\n",
        "  f.write('\\nhey!')   #pay attention to create a new line! \"\\n\""
      ],
      "metadata": {
        "id": "AEJtx1kuUaQ8"
      },
      "execution_count": null,
      "outputs": []
    },
    {
      "cell_type": "markdown",
      "source": [
        "Upload the file to your GitHub repo, and upload it to your GitHub-mate's repo!\n"
      ],
      "metadata": {
        "id": "G5RBKp50Ux48"
      }
    }
  ]
}